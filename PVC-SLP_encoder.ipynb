{
 "cells": [
  {
   "cell_type": "code",
   "execution_count": 9,
   "id": "b2e62482",
   "metadata": {},
   "outputs": [],
   "source": [
    "# import the packages\n",
    "import numpy as np\n",
    "from scipy.fftpack import dct\n",
    "from numpy.linalg import lstsq"
   ]
  },
  {
   "cell_type": "code",
   "execution_count": 10,
   "id": "e29d64f6",
   "metadata": {},
   "outputs": [],
   "source": [
    "# -----------------------------------------------------------\n",
    "# Step 1: Preprocessing (normalize to [-1,1])\n",
    "# -----------------------------------------------------------\n",
    "def normalize_signal(x):\n",
    "    xmax = np.max(x[x > 0]) if np.any(x > 0) else 1\n",
    "    xmin = np.min(x[x < 0]) if np.any(x < 0) else -1\n",
    "    x_norm = np.zeros_like(x, dtype=float)\n",
    "\n",
    "    x_norm[x > 0] = x[x > 0] / xmax\n",
    "    x_norm[x < 0] = x[x < 0] / abs(xmin)\n",
    "    return x_norm"
   ]
  },
  {
   "cell_type": "code",
   "execution_count": 11,
   "id": "19983b6b",
   "metadata": {},
   "outputs": [],
   "source": [
    "# -----------------------------------------------------------\n",
    "# Step 2: Sparse Linear Prediction (simplified AR coeffs)\n",
    "# -----------------------------------------------------------\n",
    "def slp_coefficients(x, K=20):\n",
    "    N = len(x)\n",
    "    X = np.zeros((N-K, K))\n",
    "    for i in range(K, N):\n",
    "        X[i-K] = x[i-K:i][::-1]\n",
    "    y = x[K:]\n",
    "    \n",
    "    # Least squares (L2) for simplicity, can be extended with L1 sparse solver\n",
    "    a, _, _, _ = lstsq(X, y, rcond=None)\n",
    "    return a"
   ]
  },
  {
   "cell_type": "code",
   "execution_count": 12,
   "id": "665ca926",
   "metadata": {},
   "outputs": [],
   "source": [
    "# -----------------------------------------------------------\n",
    "# Step 3: SLP to RC (Levinson recursion simplified)\n",
    "# -----------------------------------------------------------\n",
    "def slp_to_rc(a):\n",
    "    N = len(a)\n",
    "    rc = np.zeros(N)\n",
    "    a_curr = a.copy()\n",
    "    for n in range(N, 0, -1):\n",
    "        rc[n-1] = -a_curr[-1]\n",
    "        if n > 1:\n",
    "            a_prev = a_curr[:-1]\n",
    "            a_curr = (a_prev + rc[n-1] * a_prev[::-1]) / (1 - rc[n-1]**2)\n",
    "    return rc"
   ]
  },
  {
   "cell_type": "code",
   "execution_count": 13,
   "id": "1719d6f6",
   "metadata": {},
   "outputs": [],
   "source": [
    "# -----------------------------------------------------------\n",
    "# Step 4: RC Quantization\n",
    "# -----------------------------------------------------------\n",
    "def quantize_rc(rc, delta=0.03):\n",
    "    rc_q = np.round(rc / delta)\n",
    "    rc_deq = rc_q * delta\n",
    "    return rc_q, rc_deq"
   ]
  },
  {
   "cell_type": "code",
   "execution_count": 14,
   "id": "9d638b9f",
   "metadata": {},
   "outputs": [],
   "source": [
    "# -----------------------------------------------------------\n",
    "# Step 5: RC to SLP Transformation (Levinson recursion)\n",
    "# -----------------------------------------------------------\n",
    "def rc_to_slp(rc):\n",
    "    N = len(rc)\n",
    "    slp = np.zeros((N, N))\n",
    "    for m in range(N):\n",
    "        slp[m, m] = 1\n",
    "    a = np.zeros(N)\n",
    "    for k in range(N):\n",
    "        a[k] = rc[k]\n",
    "        if k > 0:\n",
    "            a[:k] += rc[k] * slp[k-1, :k][::-1]\n",
    "        slp[k, :k+1] = a[:k+1]\n",
    "    return a"
   ]
  },
  {
   "cell_type": "code",
   "execution_count": 15,
   "id": "ba23e441",
   "metadata": {},
   "outputs": [],
   "source": [
    "# -----------------------------------------------------------\n",
    "# Step 6: Residual Computation\n",
    "# -----------------------------------------------------------\n",
    "def compute_residual(x, a):\n",
    "    K = len(a)\n",
    "    N = len(x)\n",
    "    r = np.zeros(N)\n",
    "    for n in range(K, N):\n",
    "        r[n] = x[n] + np.sum(a * x[n-K:n][::-1])\n",
    "    return r"
   ]
  },
  {
   "cell_type": "code",
   "execution_count": 16,
   "id": "c6a3f56e",
   "metadata": {},
   "outputs": [],
   "source": [
    "# -----------------------------------------------------------\n",
    "# Step 7: Residual DCT + Perceptual Quantization\n",
    "# -----------------------------------------------------------\n",
    "def residual_dct_quant(r, asf, delta=0.1):\n",
    "    R = dct(r, type=2, norm='ortho')\n",
    "    eq = np.round(R / (delta * asf))\n",
    "    eq_deq = eq * delta * asf\n",
    "    return R, eq, eq_deq"
   ]
  },
  {
   "cell_type": "code",
   "execution_count": 17,
   "id": "3a7f85d3",
   "metadata": {},
   "outputs": [
    {
     "name": "stdout",
     "output_type": "stream",
     "text": [
      "Normalized x: [ 0.74022039  0.16791141  0.41069179  0.9403093   0.78365276 -0.38279741\n",
      "  0.39867004 -0.05928626 -0.04043058  0.17229272]\n",
      "SLP coeffs: [ 0.01655342  0.09295412  0.06908436 -0.12985137  0.03706271]\n",
      "RCs: [-0.01422168 -0.17952929 -0.1452085   0.16868508  0.01185   ]\n",
      "Quantized RCs: [-0. -6. -5.  6.  0.]\n",
      "Residual: [0. 0. 0. 0. 0. 0. 0. 0. 0. 0.]\n",
      "DCT coeffs: [ 0.13749397 -0.18743843 -0.45977314  0.26512608  0.70439719 -0.08853236\n",
      " -0.13315783 -0.40771887  0.25241097 -0.38712995]\n",
      "Quantized DCT: [ 1. -2. -5.  3.  7. -1. -1. -4.  3. -4.]\n"
     ]
    }
   ],
   "source": [
    "# -----------------------------------------------------------\n",
    "# Example Run\n",
    "# -----------------------------------------------------------\n",
    "if __name__ == \"__main__\":\n",
    "    # Fake vibrotactile input\n",
    "    np.random.seed(0)\n",
    "    x = np.random.randn(200)  # one frame\n",
    "\n",
    "    # Step 1: Normalize\n",
    "    x_norm = normalize_signal(x)\n",
    "\n",
    "    # Step 2: SLP coefficients\n",
    "    a = slp_coefficients(x_norm, K=20)\n",
    "\n",
    "    # Step 3: RC\n",
    "    rc = slp_to_rc(a)\n",
    "\n",
    "    # Step 4: Quantize RCs\n",
    "    rc_q, rc_deq = quantize_rc(rc)\n",
    "\n",
    "    # Step 5 (corrected): Convert dequantized RC back to SLP\n",
    "    a_deq = rc_to_slp(rc_deq)\n",
    "\n",
    "    # Step 6: Residual\n",
    "    r = compute_residual(x_norm, a_deq)\n",
    "\n",
    "    # Step 7: Residual DCT + Perceptual Quantization\n",
    "    asf = np.ones_like(r)  # placeholder ASF = 1\n",
    "    R, eq, eq_deq = residual_dct_quant(r, asf)\n",
    "\n",
    "    # Print key variables\n",
    "    print(\"Normalized x:\", x_norm[:10])\n",
    "    print(\"SLP coeffs:\", a[:5])\n",
    "    print(\"RCs:\", rc[:5])\n",
    "    print(\"Quantized RCs:\", rc_q[:5])\n",
    "    print(\"Residual:\", r[:10])\n",
    "    print(\"DCT coeffs:\", R[:10])\n",
    "    print(\"Quantized DCT:\", eq[:10])"
   ]
  }
 ],
 "metadata": {
  "kernelspec": {
   "display_name": "base",
   "language": "python",
   "name": "python3"
  },
  "language_info": {
   "codemirror_mode": {
    "name": "ipython",
    "version": 3
   },
   "file_extension": ".py",
   "mimetype": "text/x-python",
   "name": "python",
   "nbconvert_exporter": "python",
   "pygments_lexer": "ipython3",
   "version": "3.12.9"
  }
 },
 "nbformat": 4,
 "nbformat_minor": 5
}
