{
 "cells": [
  {
   "cell_type": "code",
   "execution_count": 33,
   "id": "b2e62482",
   "metadata": {},
   "outputs": [],
   "source": [
    "# import the packages\n",
    "import numpy as np\n",
    "from scipy.fftpack import dct\n",
    "from scipy.io import loadmat\n",
    "from numpy.linalg import lstsq"
   ]
  },
  {
   "cell_type": "code",
   "execution_count": 34,
   "id": "e29d64f6",
   "metadata": {},
   "outputs": [],
   "source": [
    "# -----------------------------------------------------------\n",
    "# Step 1: Preprocessing (normalize to [-1,1])\n",
    "# -----------------------------------------------------------\n",
    "def normalize_signal(x):\n",
    "    xmax = np.max(x[x > 0]) if np.any(x > 0) else 1\n",
    "    xmin = np.min(x[x < 0]) if np.any(x < 0) else -1\n",
    "    x_norm = np.zeros_like(x, dtype=float)\n",
    "\n",
    "    x_norm[x > 0] = x[x > 0] / xmax\n",
    "    x_norm[x < 0] = x[x < 0] / abs(xmin)\n",
    "    return x_norm"
   ]
  },
  {
   "cell_type": "code",
   "execution_count": 35,
   "id": "19983b6b",
   "metadata": {},
   "outputs": [],
   "source": [
    "# -----------------------------------------------------------\n",
    "# Step 2: Sparse Linear Prediction (simplified AR coeffs)\n",
    "# -----------------------------------------------------------\n",
    "def slp_coefficients(x, K=20):\n",
    "    N = len(x)\n",
    "    X = np.zeros((N-K, K))\n",
    "    for i in range(K, N):\n",
    "        X[i-K] = x[i-K:i][::-1]\n",
    "    y = x[K:]\n",
    "    \n",
    "    # Least squares (L2) for simplicity, can be extended with L1 sparse solver\n",
    "    a, _, _, _ = lstsq(X, y, rcond=None)\n",
    "    return a"
   ]
  },
  {
   "cell_type": "code",
   "execution_count": 36,
   "id": "665ca926",
   "metadata": {},
   "outputs": [],
   "source": [
    "# -----------------------------------------------------------\n",
    "# Step 3: SLP to RC (Levinson recursion simplified)\n",
    "# -----------------------------------------------------------\n",
    "def slp_to_rc(a):\n",
    "    N = len(a)\n",
    "    rc = np.zeros(N)\n",
    "    a_curr = a.copy()\n",
    "    for n in range(N, 0, -1):\n",
    "        rc[n-1] = -a_curr[-1]\n",
    "        if n > 1:\n",
    "            a_prev = a_curr[:-1]\n",
    "            a_curr = (a_prev + rc[n-1] * a_prev[::-1]) / (1 - rc[n-1]**2)\n",
    "    return rc"
   ]
  },
  {
   "cell_type": "code",
   "execution_count": 37,
   "id": "1719d6f6",
   "metadata": {},
   "outputs": [],
   "source": [
    "# -----------------------------------------------------------\n",
    "# Step 4: RC Quantization\n",
    "# -----------------------------------------------------------\n",
    "def quantize_rc(rc, delta=0.03):\n",
    "    rc_q = np.round(rc / delta)\n",
    "    rc_deq = rc_q * delta\n",
    "    return rc_q, rc_deq"
   ]
  },
  {
   "cell_type": "code",
   "execution_count": 38,
   "id": "9d638b9f",
   "metadata": {},
   "outputs": [],
   "source": [
    "# -----------------------------------------------------------\n",
    "# Step 5: RC to SLP Transformation (Levinson recursion)\n",
    "# -----------------------------------------------------------\n",
    "def rc_to_slp(rc):\n",
    "    N = len(rc)\n",
    "    slp = np.zeros((N, N))\n",
    "    for m in range(N):\n",
    "        slp[m, m] = 1\n",
    "    a = np.zeros(N)\n",
    "    for k in range(N):\n",
    "        a[k] = rc[k]\n",
    "        if k > 0:\n",
    "            a[:k] += rc[k] * slp[k-1, :k][::-1]\n",
    "        slp[k, :k+1] = a[:k+1]\n",
    "    return a"
   ]
  },
  {
   "cell_type": "code",
   "execution_count": 39,
   "id": "ba23e441",
   "metadata": {},
   "outputs": [],
   "source": [
    "# -----------------------------------------------------------\n",
    "# Step 6: Residual Computation\n",
    "# -----------------------------------------------------------\n",
    "def compute_residual(x, a):\n",
    "    K = len(a)\n",
    "    N = len(x)\n",
    "    r = np.zeros(N)\n",
    "    for n in range(K, N):\n",
    "        r[n] = x[n] + np.sum(a * x[n-K:n][::-1])\n",
    "    return r"
   ]
  },
  {
   "cell_type": "code",
   "execution_count": 40,
   "id": "c6a3f56e",
   "metadata": {},
   "outputs": [],
   "source": [
    "# -----------------------------------------------------------\n",
    "# Step 7: Residual DCT + Perceptual Quantization\n",
    "# -----------------------------------------------------------\n",
    "def residual_dct_quant(r, asf, delta=0.1):\n",
    "    R = dct(r, type=2, norm='ortho')\n",
    "    eq = np.round(R / (delta * asf))\n",
    "    eq_deq = eq * delta * asf\n",
    "    return R, eq, eq_deq"
   ]
  },
  {
   "cell_type": "code",
   "execution_count": 41,
   "id": "81e0b128",
   "metadata": {},
   "outputs": [],
   "source": [
    "# -----------------------------------------------------------\n",
    "# Load Huffman dictionary from .mat file\n",
    "# -----------------------------------------------------------\n",
    "def load_huff_dict(mat_file, var_name):\n",
    "    \"\"\"Load Huffman dictionary from .mat file as a Python dict.\"\"\"\n",
    "    mat_data = loadmat(mat_file)\n",
    "    entries = mat_data[var_name]   # cell array of shape (N, 2)\n",
    "    \n",
    "    huff_dict = {}\n",
    "    for symbol, code in entries:\n",
    "        sym = symbol.item()        # extract Python scalar\n",
    "        huff_dict[sym] = str(code[0])  # extract string from MATLAB char array\n",
    "    return huff_dict"
   ]
  },
  {
   "cell_type": "code",
   "execution_count": 42,
   "id": "5ea371d8",
   "metadata": {},
   "outputs": [],
   "source": [
    "# -----------------------------------------------------------\n",
    "# Step 8: Zero Run Length Encoder\n",
    "# -----------------------------------------------------------\n",
    "def zrl_encode(sequence):\n",
    "    \"\"\"\n",
    "    Zero Run-Length encode a sequence.\n",
    "    Outputs pairs (run_length, value).\n",
    "    \"\"\"\n",
    "    encoded = []\n",
    "    run = 0\n",
    "    for val in sequence:\n",
    "        if val == 0:\n",
    "            run += 1\n",
    "        else:\n",
    "            if run > 0:\n",
    "                encoded.append((run, 0))\n",
    "                run = 0\n",
    "            encoded.append((0, val))\n",
    "    if run > 0:  # flush tail zeros\n",
    "        encoded.append((run, 0))\n",
    "    return encoded"
   ]
  },
  {
   "cell_type": "code",
   "execution_count": 43,
   "id": "397bab4e",
   "metadata": {},
   "outputs": [],
   "source": [
    "# -----------------------------------------------------------\n",
    "# Step 9: Huffman Encoder\n",
    "# -----------------------------------------------------------\n",
    "def huffman_encode(sequence, huff_dict):\n",
    "    \"\"\"\n",
    "    Encode a sequence of symbols using a Huffman dictionary.\n",
    "    sequence: iterable of symbols\n",
    "    huff_dict: {symbol: code}\n",
    "    Returns a string of concatenated Huffman bits.\n",
    "    \"\"\"\n",
    "    encoded_bits = \"\"\n",
    "    for symbol in sequence:\n",
    "        if symbol not in huff_dict:\n",
    "            raise ValueError(f\"Symbol {symbol} not in Huffman dictionary\")\n",
    "        encoded_bits += huff_dict[symbol]\n",
    "    return encoded_bits"
   ]
  },
  {
   "cell_type": "code",
   "execution_count": 44,
   "id": "2e5911ca",
   "metadata": {},
   "outputs": [],
   "source": [
    "def huffman_encode_for_dct(data, dict_DCT):\n",
    "    \"\"\"\n",
    "    data: list of tuples (run, value)\n",
    "    dict_DCT: dictionary mapping (run, value) -> Huffman code (string of bits)\n",
    "    returns: encoded bitstring\n",
    "    \"\"\"\n",
    "    encoded_bits = \"\"\n",
    "    for item in data:\n",
    "        if item not in dict_DCT:\n",
    "            raise ValueError(f\"Tuple {item} not found in Huffman dictionary\")\n",
    "        encoded_bits += dict_DCT[item]\n",
    "    return encoded_bits"
   ]
  },
  {
   "cell_type": "code",
   "execution_count": 46,
   "id": "3a7f85d3",
   "metadata": {},
   "outputs": [
    {
     "name": "stdout",
     "output_type": "stream",
     "text": [
      "(200,) (200,)\n"
     ]
    },
    {
     "ename": "ValueError",
     "evalue": "Symbol 38.0 not in Huffman dictionary",
     "output_type": "error",
     "traceback": [
      "\u001b[31m---------------------------------------------------------------------------\u001b[39m",
      "\u001b[31mValueError\u001b[39m                                Traceback (most recent call last)",
      "\u001b[36mCell\u001b[39m\u001b[36m \u001b[39m\u001b[32mIn[46]\u001b[39m\u001b[32m, line 48\u001b[39m\n\u001b[32m     45\u001b[39m zrl_res = zrl_encode(eq)\n\u001b[32m     47\u001b[39m \u001b[38;5;66;03m# Step 9: Huffman Encode\u001b[39;00m\n\u001b[32m---> \u001b[39m\u001b[32m48\u001b[39m rc_bits  = \u001b[43mhuffman_encode\u001b[49m\u001b[43m(\u001b[49m\u001b[43mrc_q\u001b[49m\u001b[43m,\u001b[49m\u001b[43m \u001b[49m\u001b[43mrc_dict\u001b[49m\u001b[43m)\u001b[49m\n\u001b[32m     49\u001b[39m res_bits = huffman_encode_for_dct(zrl_res, dct_dict)\n\u001b[32m     51\u001b[39m \u001b[38;5;66;03m# Print key variables\u001b[39;00m\n",
      "\u001b[36mCell\u001b[39m\u001b[36m \u001b[39m\u001b[32mIn[43]\u001b[39m\u001b[32m, line 14\u001b[39m, in \u001b[36mhuffman_encode\u001b[39m\u001b[34m(sequence, huff_dict)\u001b[39m\n\u001b[32m     12\u001b[39m \u001b[38;5;28;01mfor\u001b[39;00m symbol \u001b[38;5;129;01min\u001b[39;00m sequence:\n\u001b[32m     13\u001b[39m     \u001b[38;5;28;01mif\u001b[39;00m symbol \u001b[38;5;129;01mnot\u001b[39;00m \u001b[38;5;129;01min\u001b[39;00m huff_dict:\n\u001b[32m---> \u001b[39m\u001b[32m14\u001b[39m         \u001b[38;5;28;01mraise\u001b[39;00m \u001b[38;5;167;01mValueError\u001b[39;00m(\u001b[33mf\u001b[39m\u001b[33m\"\u001b[39m\u001b[33mSymbol \u001b[39m\u001b[38;5;132;01m{\u001b[39;00msymbol\u001b[38;5;132;01m}\u001b[39;00m\u001b[33m not in Huffman dictionary\u001b[39m\u001b[33m\"\u001b[39m)\n\u001b[32m     15\u001b[39m     encoded_bits += huff_dict[symbol]\n\u001b[32m     16\u001b[39m \u001b[38;5;28;01mreturn\u001b[39;00m encoded_bits\n",
      "\u001b[31mValueError\u001b[39m: Symbol 38.0 not in Huffman dictionary"
     ]
    }
   ],
   "source": [
    "# -----------------------------------------------------------\n",
    "# Example Run\n",
    "# -----------------------------------------------------------\n",
    "if __name__ == \"__main__\":\n",
    "\n",
    "    rc_dict  = load_huff_dict(\"HuffmanDicRC.mat\", \"dict_RC\")\n",
    "    dct_dict = load_huff_dict(\"HuffmanDicDCT_QDCT_22.mat\", \"dict_DCT\")\n",
    "\n",
    "    # Fake vibrotactile input\n",
    "    material_samples = loadmat(\"Direct_-_3x1spike_Probe_-_cork_-_medium.mat\")\n",
    "    material = material_samples['material'][0][0]\n",
    "    property1 = material[2]\n",
    "    \n",
    "    x = np.squeeze(property1[0:200])\n",
    "    y = np.random.randn(200)  # one frame\n",
    "\n",
    "    print(x.shape, y.shape)\n",
    "\n",
    "    #np.random.seed(0)\n",
    "    #x = np.random.randn(200)  # one frame\n",
    "\n",
    "    # Step 1: Normalize\n",
    "    x_norm = normalize_signal(x)\n",
    "\n",
    "    # Step 2: SLP coefficients\n",
    "    a = slp_coefficients(x_norm, K=20)\n",
    "\n",
    "    # Step 3: RC\n",
    "    rc = slp_to_rc(a)\n",
    "\n",
    "    # Step 4: Quantize RCs\n",
    "    rc_q, rc_deq = quantize_rc(rc)\n",
    "\n",
    "    # Step 5 (corrected): Convert dequantized RC back to SLP\n",
    "    a_deq = rc_to_slp(rc_deq)\n",
    "\n",
    "    # Step 6: Residual\n",
    "    r = compute_residual(x_norm, a_deq)\n",
    "\n",
    "    # Step 7: Residual DCT + Perceptual Quantization\n",
    "    asf = np.ones_like(r)  # placeholder ASF = 1\n",
    "    R, eq, eq_deq = residual_dct_quant(r, asf)\n",
    "\n",
    "    # Step 8: Zero Run Length Encode residuals\n",
    "    zrl_res = zrl_encode(eq)\n",
    "\n",
    "    # Step 9: Huffman Encode\n",
    "    rc_bits  = huffman_encode(rc_q, rc_dict)\n",
    "    res_bits = huffman_encode_for_dct(zrl_res, dct_dict)\n",
    "\n",
    "    # Print key variables\n",
    "    print(\"Normalized x:\", x_norm[:10])\n",
    "    print(\"SLP coeffs:\", a[:5])\n",
    "    print(\"RCs:\", rc[:5])\n",
    "    print(\"Quantized RCs:\", rc_q[:5])\n",
    "    print(\"Residual:\", r[:10])\n",
    "    print(\"DCT coeffs:\", R[:10])\n",
    "    print(\"Quantized DCT:\", eq[:10])\n",
    "    print(\"ZRL residuals:\", zrl_res[:10])\n",
    "    print(\"Huffman encoded RC bits:\", rc_bits[:50], \"...\")\n",
    "    print(\"Huffman encoded Residual bits:\", res_bits[:50], \"...\")"
   ]
  },
  {
   "cell_type": "code",
   "execution_count": null,
   "id": "4c827deb",
   "metadata": {},
   "outputs": [
    {
     "name": "stdout",
     "output_type": "stream",
     "text": [
      "[(0, np.float64(1.0)), (0, np.float64(-2.0)), (0, np.float64(-5.0)), (0, np.float64(3.0)), (0, np.float64(7.0)), (0, np.float64(-1.0)), (0, np.float64(-1.0)), (0, np.float64(-4.0)), (0, np.float64(3.0)), (0, np.float64(-4.0)), (0, np.float64(3.0)), (0, np.float64(-3.0)), (0, np.float64(3.0)), (0, np.float64(-3.0)), (0, np.float64(7.0)), (0, np.float64(-3.0)), (0, np.float64(1.0)), (0, np.float64(1.0)), (1, 0), (0, np.float64(-1.0)), (0, np.float64(-4.0)), (0, np.float64(-1.0)), (0, np.float64(4.0)), (0, np.float64(-1.0)), (0, np.float64(-2.0)), (0, np.float64(1.0)), (0, np.float64(-3.0)), (0, np.float64(-3.0)), (0, np.float64(6.0)), (0, np.float64(3.0)), (0, np.float64(3.0)), (0, np.float64(-5.0)), (1, 0), (0, np.float64(3.0)), (0, np.float64(2.0)), (0, np.float64(-3.0)), (0, np.float64(-1.0)), (0, np.float64(-1.0)), (0, np.float64(-1.0)), (0, np.float64(-3.0)), (0, np.float64(1.0)), (0, np.float64(-1.0)), (0, np.float64(4.0)), (0, np.float64(-2.0)), (0, np.float64(5.0)), (0, np.float64(3.0)), (0, np.float64(-5.0)), (0, np.float64(4.0)), (0, np.float64(-4.0)), (0, np.float64(-4.0)), (0, np.float64(-1.0)), (0, np.float64(-2.0)), (0, np.float64(1.0)), (0, np.float64(3.0)), (0, np.float64(1.0)), (0, np.float64(3.0)), (0, np.float64(6.0)), (0, np.float64(6.0)), (0, np.float64(-1.0)), (0, np.float64(1.0)), (0, np.float64(-9.0)), (0, np.float64(-4.0)), (1, 0), (0, np.float64(-10.0)), (0, np.float64(-3.0)), (0, np.float64(2.0)), (0, np.float64(7.0)), (0, np.float64(5.0)), (0, np.float64(-7.0)), (0, np.float64(10.0)), (0, np.float64(3.0)), (0, np.float64(-3.0)), (0, np.float64(6.0)), (0, np.float64(-2.0)), (0, np.float64(3.0)), (0, np.float64(-3.0)), (0, np.float64(-4.0)), (0, np.float64(-2.0)), (0, np.float64(-6.0)), (0, np.float64(2.0)), (0, np.float64(2.0)), (0, np.float64(-3.0)), (0, np.float64(-2.0)), (1, 0), (0, np.float64(8.0)), (0, np.float64(3.0)), (0, np.float64(-5.0)), (0, np.float64(4.0)), (0, np.float64(1.0)), (1, 0), (0, np.float64(-5.0)), (0, np.float64(1.0)), (0, np.float64(2.0)), (1, 0), (0, np.float64(5.0)), (0, np.float64(-1.0)), (0, np.float64(-15.0)), (1, 0), (0, np.float64(3.0)), (0, np.float64(2.0)), (0, np.float64(9.0)), (0, np.float64(-3.0)), (0, np.float64(4.0)), (0, np.float64(1.0)), (0, np.float64(-8.0)), (0, np.float64(-13.0)), (0, np.float64(7.0)), (0, np.float64(4.0)), (0, np.float64(1.0)), (0, np.float64(1.0)), (0, np.float64(2.0)), (0, np.float64(4.0)), (0, np.float64(-2.0)), (0, np.float64(1.0)), (0, np.float64(-4.0)), (0, np.float64(-6.0)), (0, np.float64(5.0)), (0, np.float64(1.0)), (2, 0), (0, np.float64(-6.0)), (0, np.float64(1.0)), (0, np.float64(-5.0)), (0, np.float64(4.0)), (2, 0), (0, np.float64(-1.0)), (0, np.float64(8.0)), (0, np.float64(1.0)), (0, np.float64(-1.0)), (0, np.float64(4.0)), (0, np.float64(-1.0)), (0, np.float64(-1.0)), (1, 0), (0, np.float64(-7.0)), (0, np.float64(2.0)), (0, np.float64(1.0)), (2, 0), (0, np.float64(-2.0)), (1, 0), (0, np.float64(1.0)), (0, np.float64(-6.0)), (0, np.float64(5.0)), (0, np.float64(2.0)), (0, np.float64(-3.0)), (1, 0), (0, np.float64(8.0)), (0, np.float64(3.0)), (0, np.float64(-3.0)), (1, 0), (0, np.float64(1.0)), (0, np.float64(1.0)), (0, np.float64(-4.0)), (0, np.float64(-1.0)), (0, np.float64(2.0)), (1, 0), (0, np.float64(-7.0)), (0, np.float64(-2.0)), (0, np.float64(1.0)), (0, np.float64(1.0)), (0, np.float64(2.0)), (0, np.float64(2.0)), (0, np.float64(1.0)), (0, np.float64(-2.0)), (0, np.float64(1.0)), (0, np.float64(4.0)), (0, np.float64(6.0)), (0, np.float64(-5.0)), (0, np.float64(3.0)), (0, np.float64(-6.0)), (0, np.float64(5.0)), (0, np.float64(-4.0)), (0, np.float64(-3.0)), (0, np.float64(-2.0)), (0, np.float64(-5.0)), (0, np.float64(5.0)), (0, np.float64(1.0)), (0, np.float64(-3.0)), (0, np.float64(5.0)), (0, np.float64(-1.0)), (0, np.float64(-5.0)), (0, np.float64(4.0)), (0, np.float64(3.0)), (0, np.float64(4.0)), (0, np.float64(2.0)), (0, np.float64(-1.0)), (0, np.float64(-4.0)), (1, 0), (0, np.float64(-5.0)), (0, np.float64(-5.0)), (0, np.float64(-2.0)), (0, np.float64(4.0)), (0, np.float64(5.0)), (0, np.float64(2.0)), (0, np.float64(1.0)), (0, np.float64(-3.0)), (0, np.float64(1.0)), (1, 0), (0, np.float64(-5.0))]\n"
     ]
    }
   ],
   "source": [
    "print(zrl_res)"
   ]
  },
  {
   "cell_type": "code",
   "execution_count": 47,
   "id": "28cdd890",
   "metadata": {},
   "outputs": [
    {
     "name": "stdout",
     "output_type": "stream",
     "text": [
      "4\n",
      "__header__ b'MATLAB 5.0 MAT-file, Platform: PCWIN64, Created on: Tue Jun 12 14:19:41 2018'\n",
      "__version__ 1.0\n",
      "__globals__ []\n",
      "material [[(array(['cork'], dtype='<U4'), array([[0.0767154 ],\n",
      "         [0.08198328],\n",
      "         [0.1030548 ],\n",
      "         ...,\n",
      "         [0.09778692],\n",
      "         [0.11885844],\n",
      "         [0.12412632]], shape=(4200, 1)), array([[0.03390006],\n",
      "         [0.03916911],\n",
      "         [0.03916911],\n",
      "         ...,\n",
      "         [0.01282386],\n",
      "         [0.02336196],\n",
      "         [0.03916911]], shape=(4200, 1)), array([[-0.05135806],\n",
      "         [-0.0618879 ],\n",
      "         [-0.08821251],\n",
      "         ...,\n",
      "         [-0.09874235],\n",
      "         [-0.1355968 ],\n",
      "         [-0.15139157]], shape=(4200, 1)), array([[ 0.04771434],\n",
      "         [ 0.07015693],\n",
      "         [ 0.08222958],\n",
      "         ...,\n",
      "         [-0.05589936],\n",
      "         [-0.03659023],\n",
      "         [-0.01568889]], shape=(4200, 1)), array([[-0.09326004],\n",
      "         [-0.13903055],\n",
      "         [-0.16821649],\n",
      "         ...,\n",
      "         [-0.19992469],\n",
      "         [-0.23321878],\n",
      "         [-0.26111393]], shape=(2800, 1)), array([[297]], dtype=uint16), array([[0.00043558],\n",
      "         [0.0043639 ],\n",
      "         [0.00308837],\n",
      "         ...,\n",
      "         [0.00021314],\n",
      "         [0.00011773],\n",
      "         [0.00020439]], shape=(1400, 1)), array([[   0],\n",
      "         [   1],\n",
      "         [   2],\n",
      "         ...,\n",
      "         [1397],\n",
      "         [1398],\n",
      "         [1399]], shape=(1400, 1), dtype=uint16), array([[101.17723194]]), array([[100]], dtype=uint8), array([[5.98121388]]))]]\n"
     ]
    }
   ],
   "source": [
    "haha = loadmat(\"Direct_-_3x1spike_Probe_-_cork_-_medium.mat\")\n",
    "print(len(haha))\n",
    "\n",
    "first_10 = list(haha.items())[:10]\n",
    "for k, v in first_10:\n",
    "    print(k, v)"
   ]
  },
  {
   "cell_type": "code",
   "execution_count": 76,
   "id": "28b508be",
   "metadata": {},
   "outputs": [
    {
     "name": "stdout",
     "output_type": "stream",
     "text": [
      "[[297]]\n"
     ]
    }
   ],
   "source": [
    "material = haha['material'][0][0]\n",
    "name = material[0][0]\n",
    "property1 = material[6]\n",
    "print(property1)"
   ]
  },
  {
   "cell_type": "code",
   "execution_count": null,
   "id": "c89427e0",
   "metadata": {},
   "outputs": [
    {
     "data": {
      "text/plain": [
       "[<matplotlib.lines.Line2D at 0x7597784807a0>]"
      ]
     },
     "execution_count": 75,
     "metadata": {},
     "output_type": "execute_result"
    },
    {
     "data": {
      "image/png": "[encoded data removed]",
      "text/plain": [
       "<Figure size 640x480 with 1 Axes>"
      ]
     },
     "metadata": {},
     "output_type": "display_data"
    }
   ],
   "source": [
    "import matplotlib.pyplot as plt\n",
    "\n",
    "plt.plot(np.arange(2800),material[])"
   ]
  }
 ],
 "metadata": {
  "kernelspec": {
   "display_name": "base",
   "language": "python",
   "name": "python3"
  },
  "language_info": {
   "codemirror_mode": {
    "name": "ipython",
    "version": 3
   },
   "file_extension": ".py",
   "mimetype": "text/x-python",
   "name": "python",
   "nbconvert_exporter": "python",
   "pygments_lexer": "ipython3",
   "version": "3.12.9"
  }
 },
 "nbformat": 4,
 "nbformat_minor": 5
}
