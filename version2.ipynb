{
 "cells": [
  {
   "cell_type": "code",
   "execution_count": 1,
   "id": "fbac9b3d",
   "metadata": {},
   "outputs": [],
   "source": [
    "# import the packages\n",
    "import numpy as np\n",
    "from scipy.io import loadmat\n",
    "import cvxpy as cp"
   ]
  },
  {
   "cell_type": "code",
   "execution_count": 2,
   "id": "5d762e49",
   "metadata": {},
   "outputs": [],
   "source": [
    "# -----------------------------------------------------------\n",
    "# Step 1: Preprocessing (normalize to [-1,1])\n",
    "# -----------------------------------------------------------\n",
    "def normalize_signal(x):\n",
    "    xmax = np.max(x[x > 0]) if np.any(x > 0) else 1\n",
    "    xmin = np.min(x[x < 0]) if np.any(x < 0) else -1\n",
    "    x_norm = np.zeros_like(x, dtype=float)\n",
    "\n",
    "    x_norm[x > 0] = x[x > 0] / xmax\n",
    "    x_norm[x < 0] = x[x < 0] / abs(xmin)\n",
    "\n",
    "    return x_norm"
   ]
  },
  {
   "cell_type": "code",
   "execution_count": 12,
   "id": "10edf6d1",
   "metadata": {},
   "outputs": [],
   "source": [
    "# -----------------------------------------------------------\n",
    "# Step 2: Sparse Linear Prediction (simplified AR coeffs)\n",
    "# -----------------------------------------------------------\n",
    "def slp_coefficients(y, K=20, gamma_range=np.logspace(-2, 2, 40)):\n",
    "    \"\"\"\n",
    "    Sparse Linear Prediction with optimal gamma selection (Annex F.1.2).\n",
    "    \n",
    "    Args:\n",
    "        x : 1D numpy array (input vibrotactile frame)\n",
    "        K : int, prediction order\n",
    "        gamma_range : array-like, values of gamma to try\n",
    "    \n",
    "    Returns:\n",
    "        a_opt : numpy array, optimal SLP coefficients\n",
    "        gamma_opt : float, selected gamma value\n",
    "        coeff_norms : list of ||a||_1 values for each gamma\n",
    "        residual_norms : list of ||x - Xa||_1 values for each gamma\n",
    "    \"\"\"\n",
    "    N = len(y)\n",
    "    # Construct regression matrix\n",
    "    Y = np.zeros((N - K, K))\n",
    "    y_target = y[K:]  # The values to predict\n",
    "    \n",
    "    for i in range(K):\n",
    "        Y[:, i] = y[K - i - 1:N - i - 1]  # Shifted past samples\n",
    "\n",
    "    residual_norms = []\n",
    "    coeff_norms = []\n",
    "    residuals = []\n",
    "    coefficients = []\n",
    "\n",
    "    # Sweep gamma values\n",
    "    for gamma in gamma_range:\n",
    "\n",
    "        m, n = Y.shape\n",
    "    \n",
    "        # Variables\n",
    "        a = cp.Variable(n)\n",
    "        u = cp.Variable(m)  # residuals\n",
    "        v = cp.Variable(n)  # for |a|\n",
    "    \n",
    "        # Constraints to represent L1 norms\n",
    "        constraints = [\n",
    "            Y @ a - y_target <= u,\n",
    "            y_target - Y @ a <= u,\n",
    "            a <= v,\n",
    "            -a <= v,\n",
    "            u >= 0,\n",
    "            v >= 0\n",
    "        ]\n",
    "    \n",
    "        # Objective\n",
    "        objective = cp.Minimize(cp.sum(u) + gamma * cp.sum(v))\n",
    "    \n",
    "        # Problem\n",
    "        prob = cp.Problem(objective, constraints)\n",
    "        prob.solve(solver=cp.SCS)  # You can also try cp.SCS\n",
    "\n",
    "        r = y_target - Y @ a.value\n",
    "        residual_norms.append(np.linalg.norm(r, 1))\n",
    "        coeff_norms.append(np.linalg.norm(a.value, 1))\n",
    "        residuals.append(r)\n",
    "        coefficients.append(a.value)\n",
    "\n",
    "    residual_norms = np.array(residual_norms)\n",
    "    coeff_norms = np.array(coeff_norms)\n",
    "\n",
    "    return residual_norms, coeff_norms, residuals, coefficients"
   ]
  },
  {
   "cell_type": "code",
   "execution_count": 15,
   "id": "cb518ef6",
   "metadata": {},
   "outputs": [
    {
     "name": "stderr",
     "output_type": "stream",
     "text": [
      "/home/cwcyenk/miniconda3/lib/python3.12/site-packages/cvxpy/problems/problem.py:1539: UserWarning: Solution may be inaccurate. Try another solver, adjusting the solver settings, or solve with verbose=True for more information.\n",
      "  warnings.warn(\n"
     ]
    }
   ],
   "source": [
    "# -----------------------------------------------------------\n",
    "# Example Run\n",
    "# -----------------------------------------------------------\n",
    "if __name__ == \"__main__\":\n",
    "\n",
    "    tooltip = \"1spike_Probe\" # 1spike_Probe, 3x1small-round_Probe, 3x1spike_Probe, 3x3_Probe, 3x3small-round_Probe, big-half-round_Probe, big-round_Probe, finger_Probe\n",
    "    material = \"rubber\"  # BalticBrown, aluminiumGrid, antiVibPad, bamboo, cork, felt, foam, polyesterPad, rubber\n",
    "    speed = \"fast\"  # medium, fast\n",
    "    sampling_rate = 2800\n",
    "    dct_quantization_scale = 1.0\n",
    "    num_samples_per_frame = 200\n",
    "    ar_order = 40\n",
    "\n",
    "    acc_samples_filename = \"./signal_trace_data/Direct_-_\" + tooltip + \"_-_\" + material + \"_-_\" + speed + \".mat\"\n",
    "\n",
    "    data = loadmat(acc_samples_filename)\n",
    "    material_samples = data[\"material\"]\n",
    "\n",
    "    acc_combined_cut_frame = material_samples[\"joinedAccPaperCut\"][0,0]\n",
    "    acc_combined_cut_frame = np.asarray(acc_combined_cut_frame).flatten()\n",
    "\n",
    "    # Step 1: Normalize\n",
    "    x_norm = normalize_signal(acc_combined_cut_frame)\n",
    "\n",
    "    # Step 2: SLP coefficients\n",
    "    residual_norms, coeff_norms, residuals, coefficients = slp_coefficients(x_norm, K=ar_order)\n"
   ]
  },
  {
   "cell_type": "code",
   "execution_count": 16,
   "id": "f1ceba2a",
   "metadata": {},
   "outputs": [],
   "source": [
    "np.save('residual_norms.npy', residual_norms)\n",
    "np.save('coeff_norms.npy', coeff_norms)\n",
    "np.save('residuals.npy', residuals)\n",
    "np.save('coefficients.npy', coefficients)"
   ]
  },
  {
   "cell_type": "code",
   "execution_count": 17,
   "id": "6d7ebd26",
   "metadata": {},
   "outputs": [],
   "source": [
    "residual_norms = np.load('residual_norms.npy')\n",
    "coeff_norms = np.load('coeff_norms.npy')\n",
    "residuals = np.load('residuals.npy')\n",
    "coefficients = np.load('coefficients.npy')"
   ]
  },
  {
   "cell_type": "code",
   "execution_count": null,
   "id": "e28c2c5e",
   "metadata": {},
   "outputs": [],
   "source": [
    "# Find \"corner\" of the L-curve (max distance to line between endpoints)\n",
    "gamma_range=np.logspace(-2, 2, 40)\n",
    "x1, y1 = coeff_norms[0], residual_norms[0]\n",
    "x2, y2 = coeff_norms[-1], residual_norms[-1]\n",
    "distances = []\n",
    "for xi, yi in zip(coeff_norms, residual_norms):\n",
    "    num = abs((y2-y1)*xi - (x2-x1)*yi + x2*y1 - y2*x1)\n",
    "    den = np.sqrt((y2-y1)**2 + (x2-x1)**2)\n",
    "    distances.append(num/den)\n",
    "best_idx = int(np.argmax(distances))\n",
    "\n",
    "gamma_opt = gamma_range[best_idx]\n",
    "best_residual_norm = residual_norms[best_idx]\n",
    "best_coeff_norm = coeff_norms[best_idx]\n",
    "best_residual = residuals[best_idx]\n",
    "best_coefficient = coefficients[best_idx]"
   ]
  },
  {
   "cell_type": "code",
   "execution_count": 20,
   "id": "797be9b6",
   "metadata": {},
   "outputs": [
    {
     "data": {
      "text/plain": [
       "<StemContainer object of 3 artists>"
      ]
     },
     "execution_count": 20,
     "metadata": {},
     "output_type": "execute_result"
    },
    {
     "data": {
      "image/png": "[encoded data removed]",
      "text/plain": [
       "<Figure size 640x480 with 1 Axes>"
      ]
     },
     "metadata": {},
     "output_type": "display_data"
    }
   ],
   "source": [
    "import matplotlib.pyplot as plt\n",
    "\n",
    "plt.stem(np.log10(residual_norms), np.log10(coeff_norms))\n",
    "plt.stem(np.log10(best_residual_norm), np.log10(best_coeff_norm), linefmt='red')"
   ]
  }
 ],
 "metadata": {
  "kernelspec": {
   "display_name": "base",
   "language": "python",
   "name": "python3"
  },
  "language_info": {
   "codemirror_mode": {
    "name": "ipython",
    "version": 3
   },
   "file_extension": ".py",
   "mimetype": "text/x-python",
   "name": "python",
   "nbconvert_exporter": "python",
   "pygments_lexer": "ipython3",
   "version": "3.12.9"
  }
 },
 "nbformat": 4,
 "nbformat_minor": 5
}
