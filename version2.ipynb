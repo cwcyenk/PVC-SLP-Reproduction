{
 "cells": [
  {
   "cell_type": "code",
   "execution_count": 3,
   "id": "fbac9b3d",
   "metadata": {},
   "outputs": [],
   "source": [
    "# import the packages\n",
    "import numpy as np\n",
    "from scipy.io import loadmat\n",
    "import cvxpy as cp"
   ]
  },
  {
   "cell_type": "code",
   "execution_count": 2,
   "id": "5d762e49",
   "metadata": {},
   "outputs": [],
   "source": [
    "# -----------------------------------------------------------\n",
    "# Step 1: Preprocessing (normalize to [-1,1])\n",
    "# -----------------------------------------------------------\n",
    "def normalize_signal(x):\n",
    "    xmax = np.max(x[x > 0]) if np.any(x > 0) else 1\n",
    "    xmin = np.min(x[x < 0]) if np.any(x < 0) else -1\n",
    "    x_norm = np.zeros_like(x, dtype=float)\n",
    "\n",
    "    x_norm[x > 0] = x[x > 0] / xmax\n",
    "    x_norm[x < 0] = x[x < 0] / abs(xmin)\n",
    "\n",
    "    return x_norm"
   ]
  },
  {
   "cell_type": "code",
   "execution_count": 29,
   "id": "10edf6d1",
   "metadata": {},
   "outputs": [],
   "source": [
    "# -----------------------------------------------------------\n",
    "# Step 2: Sparse Linear Prediction (simplified AR coeffs)\n",
    "# -----------------------------------------------------------\n",
    "def slp_coefficients(y, K=20, gamma_range=np.logspace(-2, 2, 40)):\n",
    "    \"\"\"\n",
    "    Sparse Linear Prediction with optimal gamma selection (Annex F.1.2).\n",
    "    \n",
    "    Args:\n",
    "        x : 1D numpy array (input vibrotactile frame)\n",
    "        K : int, prediction order\n",
    "        gamma_range : array-like, values of gamma to try\n",
    "    \n",
    "    Returns:\n",
    "        a_opt : numpy array, optimal SLP coefficients\n",
    "        gamma_opt : float, selected gamma value\n",
    "        coeff_norms : list of ||a||_1 values for each gamma\n",
    "        residual_norms : list of ||x - Xa||_1 values for each gamma\n",
    "    \"\"\"\n",
    "    N = len(y)\n",
    "    # Construct regression matrix\n",
    "    Y = np.zeros((N - K, K))\n",
    "    y_target = y[K:]  # The values to predict\n",
    "    \n",
    "    for i in range(K):\n",
    "        Y[:, i] = y[K - i - 1:N - i - 1]  # Shifted past samples\n",
    "\n",
    "    residual_norms = []\n",
    "    coeff_norms = []\n",
    "\n",
    "    # Sweep gamma values\n",
    "    for gamma in gamma_range:\n",
    "\n",
    "        m, n = Y.shape\n",
    "    \n",
    "        # Variables\n",
    "        a = cp.Variable(n)\n",
    "        u = cp.Variable(m)  # residuals\n",
    "        v = cp.Variable(n)  # for |a|\n",
    "    \n",
    "        # Constraints to represent L1 norms\n",
    "        constraints = [\n",
    "            Y @ a - y_target <= u,\n",
    "            y_target - Y @ a <= u,\n",
    "            a <= v,\n",
    "            -a <= v,\n",
    "            u >= 0,\n",
    "            v >= 0\n",
    "        ]\n",
    "    \n",
    "        # Objective\n",
    "        objective = cp.Minimize(cp.sum(u) + gamma * cp.sum(v))\n",
    "    \n",
    "        # Problem\n",
    "        prob = cp.Problem(objective, constraints)\n",
    "        prob.solve(solver=cp.SCS)  # You can also try cp.SCS\n",
    "\n",
    "        r = y_target - Y @ a.value\n",
    "        residual_norms.append(np.linalg.norm(r, 1))\n",
    "        coeff_norms.append(np.linalg.norm(a.value, 1))\n",
    "\n",
    "    residual_norms = np.array(residual_norms)\n",
    "    coeff_norms = np.array(coeff_norms)\n",
    "\n",
    "    return residual_norms, coeff_norms, r"
   ]
  },
  {
   "cell_type": "code",
   "execution_count": 30,
   "id": "cb518ef6",
   "metadata": {},
   "outputs": [
    {
     "name": "stderr",
     "output_type": "stream",
     "text": [
      "/home/cwcyenk/miniconda3/lib/python3.12/site-packages/cvxpy/problems/problem.py:1539: UserWarning: Solution may be inaccurate. Try another solver, adjusting the solver settings, or solve with verbose=True for more information.\n",
      "  warnings.warn(\n"
     ]
    }
   ],
   "source": [
    "# -----------------------------------------------------------\n",
    "# Example Run\n",
    "# -----------------------------------------------------------\n",
    "if __name__ == \"__main__\":\n",
    "\n",
    "    tooltip = \"1spike_Probe\" # 1spike_Probe, 3x1small-round_Probe, 3x1spike_Probe, 3x3_Probe, 3x3small-round_Probe, big-half-round_Probe, big-round_Probe, finger_Probe\n",
    "    material = \"rubber\"  # BalticBrown, aluminiumGrid, antiVibPad, bamboo, cork, felt, foam, polyesterPad, rubber\n",
    "    speed = \"fast\"  # medium, fast\n",
    "    sampling_rate = 2800\n",
    "    dct_quantization_scale = 1.0\n",
    "    num_samples_per_frame = 200\n",
    "    ar_order = 40\n",
    "\n",
    "    acc_samples_filename = \"./signal_trace_data/Direct_-_\" + tooltip + \"_-_\" + material + \"_-_\" + speed + \".mat\"\n",
    "\n",
    "    data = loadmat(acc_samples_filename)\n",
    "    material_samples = data[\"material\"]\n",
    "\n",
    "    acc_combined_cut_frame = material_samples[\"joinedAccPaperCut\"][0,0]\n",
    "    acc_combined_cut_frame = np.asarray(acc_combined_cut_frame).flatten()\n",
    "\n",
    "    # Step 1: Normalize\n",
    "    x_norm = normalize_signal(acc_combined_cut_frame)\n",
    "\n",
    "    # Step 2: SLP coefficients\n",
    "    residual_norms, coeff_norms, r = slp_coefficients(x_norm, K=ar_order)\n"
   ]
  },
  {
   "cell_type": "code",
   "execution_count": 31,
   "id": "129bb4aa",
   "metadata": {},
   "outputs": [
    {
     "name": "stdout",
     "output_type": "stream",
     "text": [
      "[1.89693036 1.89693035 1.89693049 1.89693054 1.89693152 1.89693275\n",
      " 1.89693684 1.89693796 1.89694617 1.89695118 1.89695805 1.89697918\n",
      " 1.8970151  1.89708064 1.8971109  1.89716177 1.89729618 1.89744546\n",
      " 1.8978161  1.89823718 1.89914751 1.90029598 1.90177107 1.9036156\n",
      " 1.90630137 1.91047747 1.91622338 1.92101801 1.92625291 1.93160107\n",
      " 1.93681907 1.94017534 1.94621397 1.95044708 1.95636217 1.95984086\n",
      " 1.9653518  1.97568086 1.98837963 1.99639929] [0.59492281 0.5947879  0.59499339 0.59507404 0.59359005 0.59290372\n",
      " 0.59083207 0.58998427 0.58754344 0.58615564 0.58444899 0.58085186\n",
      " 0.57568875 0.56805407 0.56533506 0.56197349 0.55431661 0.54766869\n",
      " 0.53391913 0.52165792 0.49943096 0.47626559 0.45057851 0.42427132\n",
      " 0.39178887 0.34670516 0.29261081 0.25247166 0.21295103 0.17847782\n",
      " 0.14949414 0.13386189 0.10962949 0.0956568  0.07964987 0.07218924\n",
      " 0.0625255  0.0472395  0.03112887 0.02272568]\n"
     ]
    }
   ],
   "source": [
    "print(np.log10(residual_norms), np.log10(coeff_norms))"
   ]
  },
  {
   "cell_type": "code",
   "execution_count": 32,
   "id": "797be9b6",
   "metadata": {},
   "outputs": [
    {
     "data": {
      "text/plain": [
       "<StemContainer object of 3 artists>"
      ]
     },
     "execution_count": 32,
     "metadata": {},
     "output_type": "execute_result"
    },
    {
     "data": {
      "image/png": "[encoded data removed]",
      "text/plain": [
       "<Figure size 640x480 with 1 Axes>"
      ]
     },
     "metadata": {},
     "output_type": "display_data"
    }
   ],
   "source": [
    "import matplotlib.pyplot as plt\n",
    "\n",
    "plt.stem(np.log10(residual_norms), np.log10(coeff_norms))"
   ]
  }
 ],
 "metadata": {
  "kernelspec": {
   "display_name": "base",
   "language": "python",
   "name": "python3"
  },
  "language_info": {
   "codemirror_mode": {
    "name": "ipython",
    "version": 3
   },
   "file_extension": ".py",
   "mimetype": "text/x-python",
   "name": "python",
   "nbconvert_exporter": "python",
   "pygments_lexer": "ipython3",
   "version": "3.12.9"
  }
 },
 "nbformat": 4,
 "nbformat_minor": 5
}
